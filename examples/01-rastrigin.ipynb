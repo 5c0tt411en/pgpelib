{
 "cells": [
  {
   "cell_type": "markdown",
   "metadata": {},
   "source": [
    "# Solving the Rastrigin problem using pgpelib\n",
    "\n",
    "This example notebook demonstrates the core usage of `pgpelib` by solving the Rastrigin problem ([Rastrigin, 1974; Rudolph, 1990](#References)) using PGPE ([Sehnke et al., 2010](#References)) and the ClipUp optimizer ([Toklu et al., 2020](#References)) (or alternatively, the Adam optimizer ([Kingma et al., 2015](#References)))."
   ]
  },
  {
   "cell_type": "markdown",
   "metadata": {},
   "source": [
    "## Initialization"
   ]
  },
  {
   "cell_type": "markdown",
   "metadata": {},
   "source": [
    "We begin by importing the necessary libraries."
   ]
  },
  {
   "cell_type": "code",
   "execution_count": 1,
   "metadata": {},
   "outputs": [],
   "source": [
    "from pgpelib import PGPE\n",
    "import numpy as np\n",
    "from numbers import Real"
   ]
  },
  {
   "cell_type": "markdown",
   "metadata": {},
   "source": [
    "Now, we define an n-dimensional Rastrigin function."
   ]
  },
  {
   "cell_type": "code",
   "execution_count": 2,
   "metadata": {},
   "outputs": [],
   "source": [
    "A = 10.0\n",
    "n = 100     # <-- dimension\n",
    "\n",
    "def rastrigin_function(x: np.ndarray) -> Real:\n",
    "    cost = A * n + np.sum(x ** 2.0 - (A * np.cos(2 * np.pi * x)))\n",
    "    # This cost value is to be minimized.\n",
    "    # Because pgpelib assumes that the goal is to maximize,\n",
    "    # we return the cost multiplied by -1.\n",
    "    return -cost"
   ]
  },
  {
   "cell_type": "markdown",
   "metadata": {},
   "source": [
    "We also generate an initial solution and name it `x0`:"
   ]
  },
  {
   "cell_type": "code",
   "execution_count": 3,
   "metadata": {},
   "outputs": [
    {
     "data": {
      "text/plain": [
       "array([ 2.260581  , -4.287902  ,  4.2492113 , -3.375462  ,  1.8905883 ,\n",
       "        2.4019365 ,  2.3786597 ,  2.0572114 ,  4.2870283 , -5.0148764 ,\n",
       "       -1.7789336 , -1.2420483 ,  0.57446414, -4.6260176 ,  4.804072  ,\n",
       "       -4.6377134 ,  4.130985  , -2.1806664 , -0.84947735, -4.4363756 ,\n",
       "       -1.3713521 ,  0.10298141, -3.453057  , -3.333743  ,  1.3536777 ,\n",
       "        4.9601727 , -2.2064102 , -3.9028325 , -3.578574  ,  1.6291565 ,\n",
       "       -3.1885226 , -3.2866375 ,  1.8182292 , -4.79836   ,  2.2121603 ,\n",
       "        5.034507  , -0.6028644 ,  1.857549  ,  4.2413106 , -2.6413257 ,\n",
       "        2.040794  , -3.7954023 , -4.675698  , -0.49074742,  0.7865207 ,\n",
       "        3.7415774 ,  0.43679133, -1.6776841 , -4.83935   ,  0.23159784,\n",
       "       -4.2978    , -0.6832779 , -1.425045  , -2.4312851 ,  4.7246075 ,\n",
       "       -2.0583162 ,  0.5828159 ,  4.2087646 ,  0.48544732,  2.7085035 ,\n",
       "       -1.5704492 , -1.6617717 ,  1.1273117 ,  1.9748904 , -1.4124613 ,\n",
       "        1.8874893 ,  0.18855312, -5.0623074 ,  2.8473904 , -4.182669  ,\n",
       "        2.6714718 , -3.8366358 ,  3.079028  ,  0.9924612 , -4.4352417 ,\n",
       "       -4.4904585 ,  3.8768866 ,  0.8626381 , -0.4828105 , -3.9855008 ,\n",
       "       -4.906731  ,  3.2454402 , -4.790652  , -5.047541  , -4.6571593 ,\n",
       "        4.5891166 , -0.15158017,  3.5934088 ,  1.7333469 ,  2.4010644 ,\n",
       "       -3.3687732 ,  2.199825  , -0.561386  , -0.15253577, -3.7973254 ,\n",
       "       -1.0533416 , -1.5620596 ,  0.10073137, -4.5860763 , -4.611087  ],\n",
       "      dtype=float32)"
      ]
     },
     "execution_count": 3,
     "metadata": {},
     "output_type": "execute_result"
    }
   ],
   "source": [
    "x0 = np.random.uniform(-5.12, 5.12, n).astype('float32')\n",
    "x0"
   ]
  },
  {
   "cell_type": "markdown",
   "metadata": {},
   "source": [
    "Now, let us instantiate a PGPE solver using the ClipUp optimizer."
   ]
  },
  {
   "cell_type": "code",
   "execution_count": 4,
   "metadata": {},
   "outputs": [
    {
     "data": {
      "text/plain": [
       "<pgpelib.pgpe.PGPE at 0x7f30f4403f98>"
      ]
     },
     "execution_count": 4,
     "metadata": {},
     "output_type": "execute_result"
    }
   ],
   "source": [
    "pgpe = PGPE(\n",
    "\n",
    "    # Length of each solution:\n",
    "    solution_length=n,\n",
    "    \n",
    "    # Population size:\n",
    "    popsize=250,\n",
    "    \n",
    "    # Initial center solution (i.e. initial mean of the search\n",
    "    # distribution):\n",
    "    center_init=x0,\n",
    "    \n",
    "    # Learning rate for when updating the mean of the search distribution:\n",
    "    center_learning_rate=0.03,\n",
    "\n",
    "    # The following configuration tells that the ClipUp optimizer\n",
    "    # is to be used when updating the mean of the search distribution.\n",
    "    optimizer='clipup',\n",
    "    \n",
    "    # The ClipUp-specific 'max_speed' hyperparameter is set here:\n",
    "    optimizer_config={'max_speed': 0.06},\n",
    "    \n",
    "    # If instead of ClipUp you would like to use Adam,\n",
    "    # then set:\n",
    "    #     optimizer='adam'\n",
    "    # and do not specify any optimizer_config so that Adam is used\n",
    "    # with its default hyperparameters.\n",
    "    # For customizing how Adam works, you can also set\n",
    "    # optimizer_config={'beta1': ..., 'beta2': ..., 'epsilon': ...}\n",
    "    \n",
    "    # Initial standard deviation of the search distribution\n",
    "    stdev_init=1.0,\n",
    "    \n",
    "    # Learning rate for when updating the standard deviation of the\n",
    "    # search distribution:\n",
    "    stdev_learning_rate=0.1,\n",
    "    \n",
    "    # With the setting below, the standard deviation cannot change\n",
    "    # more tha then 20% of its original value.\n",
    "    stdev_max_change=0.2,\n",
    "    \n",
    "    # When estimating the gradient, rank the solutions linearly\n",
    "    # (the ranks go from -0.5 to 0.5 from worst to best, like done\n",
    "    # in the work of Salimans et al. (2017)):\n",
    "    solution_ranking=True,\n",
    "    \n",
    "    # The PGPE solver will work with arrays of the following dtype:\n",
    "    dtype='float32'\n",
    ")\n",
    "\n",
    "pgpe"
   ]
  },
  {
   "cell_type": "markdown",
   "metadata": {},
   "source": [
    "## Evolution loop\n",
    "\n",
    "We are now ready to implement and execute our evolution loop.\n",
    "Inspired by the existing evolutionary computation libraries of [Hansen et al. 2019](#References) and [Ha, 2017](#References), pgpelib also implements the ask-and-tell interface. In the simplest cases, the `ask(...)` method of the solver is used for requesting solutions to evaluate, and the `tell(...)` method is used for sending the solver the evaluation results (fitness values).\n",
    "\n",
    "Below is our implemented evolution loop."
   ]
  },
  {
   "cell_type": "code",
   "execution_count": 5,
   "metadata": {},
   "outputs": [
    {
     "name": "stdout",
     "output_type": "stream",
     "text": [
      "Iteration: 100   cost: 1617.0593872070312\n",
      "Iteration: 200   cost: 1410.7705383300781\n",
      "Iteration: 300   cost: 1190.9596099853516\n",
      "Iteration: 400   cost: 1256.0968627929688\n",
      "Iteration: 500   cost: 886.995231628418\n",
      "Iteration: 600   cost: 1135.7402038574219\n",
      "Iteration: 700   cost: 834.6457214355469\n",
      "Iteration: 800   cost: 576.2149047851562\n",
      "Iteration: 900   cost: 588.3603515625\n",
      "Iteration: 1000   cost: 502.8448181152344\n",
      "Iteration: 1100   cost: 489.0048828125\n",
      "Iteration: 1200   cost: 504.94952392578125\n",
      "Iteration: 1300   cost: 596.1562194824219\n",
      "Iteration: 1400   cost: 546.8566284179688\n",
      "Iteration: 1500   cost: 494.8240661621094\n",
      "Iteration: 1600   cost: 457.27850341796875\n",
      "Iteration: 1700   cost: 356.2861328125\n",
      "Iteration: 1800   cost: 337.39385986328125\n",
      "Iteration: 1900   cost: 226.965576171875\n",
      "Iteration: 2000   cost: 167.3988037109375\n",
      "Iteration: 2100   cost: 168.00189208984375\n",
      "Iteration: 2200   cost: 61.446533203125\n",
      "Iteration: 2300   cost: 26.16448974609375\n",
      "Iteration: 2400   cost: 27.14453125\n",
      "Iteration: 2500   cost: 12.56475830078125\n",
      "Iteration: 2600   cost: 3.87628173828125\n",
      "Iteration: 2700   cost: 2.3504638671875\n",
      "Iteration: 2800   cost: 1.76263427734375\n",
      "Iteration: 2900   cost: 2.048095703125\n",
      "Iteration: 3000   cost: 2.01385498046875\n",
      "Iteration: 3100   cost: 2.01483154296875\n",
      "Iteration: 3200   cost: 2.1387939453125\n",
      "Iteration: 3300   cost: 2.1046142578125\n",
      "Iteration: 3400   cost: 2.2703857421875\n",
      "Iteration: 3500   cost: 2.09033203125\n",
      "Iteration: 3600   cost: 1.85552978515625\n",
      "Iteration: 3700   cost: 2.3984375\n",
      "Iteration: 3800   cost: 1.72711181640625\n",
      "Iteration: 3900   cost: 2.02374267578125\n",
      "Iteration: 4000   cost: 1.28369140625\n",
      "Iteration: 4100   cost: 1.64190673828125\n",
      "Iteration: 4200   cost: 1.60015869140625\n",
      "Iteration: 4300   cost: 1.64727783203125\n",
      "Iteration: 4400   cost: 1.73187255859375\n",
      "Iteration: 4500   cost: 1.6400146484375\n",
      "Iteration: 4600   cost: 2.5450439453125\n",
      "Iteration: 4700   cost: 2.068359375\n",
      "Iteration: 4800   cost: 1.70556640625\n",
      "Iteration: 4900   cost: 2.294921875\n",
      "Iteration: 5000   cost: 1.834716796875\n"
     ]
    }
   ],
   "source": [
    "# Number of iterations\n",
    "num_iterations = 5000\n",
    "\n",
    "# At every `report_interval` amount of iterations, show the status:\n",
    "report_interval = 100\n",
    "\n",
    "# The main loop of the evolutionary computation\n",
    "for i in range(1, 1 + num_iterations):\n",
    "    solutions = pgpe.ask()\n",
    "    fitnesses = [rastrigin_function(x) for x in solutions]\n",
    "    pgpe.tell(fitnesses)\n",
    "    \n",
    "    if (i % report_interval) == 0:\n",
    "        print(\"Iteration:\", i, \"  cost:\", -rastrigin_function(pgpe.center))\n",
    "    "
   ]
  },
  {
   "cell_type": "markdown",
   "metadata": {},
   "source": [
    "---\n",
    "\n",
    "## References\n",
    "\n",
    "**Ha, D.** (2017). Evolving Stable Strategies. blog.otoro.net.\n",
    "Link: http://blog.otoro.net/2017/11/12/evolving-stable-strategies/\n",
    "\n",
    "**Hansen, N., Akimoto, Y., & Baudis, P.** (2019, February). CMA-ES/pycma on Github. Zenodo, DOI:10.5281/zenodo.2559634. Link: https://github.com/CMA-ES/pycma\n",
    "\n",
    "**Kingma, D. P. & J. Ba.** (2015).  Adam: A method for stochastic optimization.  In Proceedings of 3rd International Conference on Learning Representations. arXiv link: https://arxiv.org/abs/1412.6980\n",
    "\n",
    "**Rastrigin, L. A.** (1974). \"Systems of extremal control.\" Mir, Moscow.\n",
    "\n",
    "**Rudolph, G.** (1990, July). \"Globale Optimierung mit parallelen Evolutionsstrategien\". Diplomarbeit. Department of Computer Science, University of Dortmund.\n",
    "\n",
    "**Salimans, T., Ho, J., Chen, X., Sidor, S., & Sutskever, I.** (2017). Evolution strategies as a scalable alternative to reinforcement learning. arXiv preprint arXiv:1703.03864.\n",
    "arXiv link: https://arxiv.org/abs/1703.03864\n",
    "\n",
    "**Sehnke, F., Osendorfer, C., Rückstieß, T., Graves, A., Peters, J., & Schmidhuber, J.** (2010). Parameter-exploring policy gradients. Neural Networks, 23(4), 551-559.\n",
    "\n",
    "**Toklu, N. E., Liskowski, P., & Srivastava, R. K.** (2020, September). ClipUp: A Simple and Powerful Optimizer for Distribution-Based Policy Evolution. In International Conference on Parallel Problem Solving from Nature (pp. 515-527). Springer, Cham. arXiv link: https://arxiv.org/abs/2008.02387"
   ]
  }
 ],
 "metadata": {
  "kernelspec": {
   "display_name": "Python 3",
   "language": "python",
   "name": "python3"
  },
  "language_info": {
   "codemirror_mode": {
    "name": "ipython",
    "version": 3
   },
   "file_extension": ".py",
   "mimetype": "text/x-python",
   "name": "python",
   "nbconvert_exporter": "python",
   "pygments_lexer": "ipython3",
   "version": "3.6.12"
  }
 },
 "nbformat": 4,
 "nbformat_minor": 4
}
